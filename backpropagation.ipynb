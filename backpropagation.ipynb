{
 "cells": [
  {
   "cell_type": "code",
   "execution_count": null,
   "metadata": {},
   "outputs": [
    {
     "data": {
      "text/plain": [
       "[]"
      ]
     },
     "execution_count": 31,
     "metadata": {},
     "output_type": "execute_result"
    }
   ],
   "source": [
    "import numpy as np\n",
    "#The Actual y\n",
    "yActual=2.0\n",
    "\n",
    "## The Inputs\n",
    "## Variable Value\n",
    "x1=1\n",
    "x2=0\n",
    "\n",
    "\n",
    "#leraning rate\n",
    "lr=0.1\n",
    "\n",
    "## Weights\n",
    "## Neuron coef\n",
    "w1 = 1\n",
    "w2 = 0.5\n",
    "w3 = 1\n",
    "w4=-0.5\n",
    "w5 = 1\n",
    "w6 = 1\n",
    "\n",
    "## Biases\n",
    "\n",
    "\n",
    "b1=0.5\n",
    "b2=0\n",
    "b3=0.5\n",
    "\n",
    "\n",
    "h1 = x1*w1 + x2*w3 + b1\n",
    "h2 = x1*w2 + x2*w4 + b2 \n",
    "o1 = h1*w5 + h2*w6 + b3\n",
    "\n",
    "\n",
    "yhat=o1\n"
   ]
  },
  {
   "cell_type": "code",
   "execution_count": 37,
   "metadata": {},
   "outputs": [
    {
     "ename": "TypeError",
     "evalue": "'float' object is not callable",
     "output_type": "error",
     "traceback": [
      "\u001b[1;31m---------------------------------------------------------------------------\u001b[0m",
      "\u001b[1;31mTypeError\u001b[0m                                 Traceback (most recent call last)",
      "Cell \u001b[1;32mIn[37], line 11\u001b[0m\n\u001b[0;32m      9\u001b[0m \u001b[38;5;66;03m# Kayıp fonksiyonunun yActual’a göre türevi\u001b[39;00m\n\u001b[0;32m     10\u001b[0m dL_dyActual \u001b[38;5;241m=\u001b[39m numeric_derivative(loss, yActual)\n\u001b[1;32m---> 11\u001b[0m dL_dw5\u001b[38;5;241m=\u001b[39m\u001b[43mnumeric_derivative\u001b[49m\u001b[43m(\u001b[49m\u001b[43mdL_dyActual\u001b[49m\u001b[43m,\u001b[49m\u001b[43mw5\u001b[49m\u001b[43m)\u001b[49m\n\u001b[0;32m     12\u001b[0m \u001b[38;5;28mprint\u001b[39m(\u001b[38;5;124m\"\u001b[39m\u001b[38;5;124mNumeric ∂L/∂yActual =\u001b[39m\u001b[38;5;124m\"\u001b[39m, dL_dyActual)\n",
      "Cell \u001b[1;32mIn[37], line 7\u001b[0m, in \u001b[0;36mnumeric_derivative\u001b[1;34m(f, x, eps)\u001b[0m\n\u001b[0;32m      6\u001b[0m \u001b[38;5;28;01mdef\u001b[39;00m \u001b[38;5;21mnumeric_derivative\u001b[39m(f, x, eps\u001b[38;5;241m=\u001b[39m\u001b[38;5;241m1e-6\u001b[39m):\n\u001b[1;32m----> 7\u001b[0m     \u001b[38;5;28;01mreturn\u001b[39;00m (\u001b[43mf\u001b[49m\u001b[43m(\u001b[49m\u001b[43mx\u001b[49m\u001b[43m \u001b[49m\u001b[38;5;241;43m+\u001b[39;49m\u001b[43m \u001b[49m\u001b[43meps\u001b[49m\u001b[43m)\u001b[49m \u001b[38;5;241m-\u001b[39m f(x \u001b[38;5;241m-\u001b[39m eps)) \u001b[38;5;241m/\u001b[39m (\u001b[38;5;241m2\u001b[39m\u001b[38;5;241m*\u001b[39meps)\n",
      "\u001b[1;31mTypeError\u001b[0m: 'float' object is not callable"
     ]
    }
   ],
   "source": [
    "# Kare hatayı veren fonksiyon (yActual parametreli)\n",
    "def loss(y_actual):\n",
    "    return (yhat - y_actual)**2\n",
    "\n",
    "# Numerik türev (finite difference)\n",
    "def numeric_derivative(f, x, eps=1e-6):\n",
    "    return (f(x + eps) - f(x - eps)) / (2*eps)\n",
    "\n",
    "# Kayıp fonksiyonunun yActual’a göre türevi\n",
    "dL_dyActual = numeric_derivative(loss, yActual)\n",
    "dL_dw5=numeric_derivative(dL_dyActual,w5)\n",
    "print(\"Numeric ∂L/∂yActual =\", dL_dyActual)\n"
   ]
  },
  {
   "cell_type": "code",
   "execution_count": null,
   "metadata": {},
   "outputs": [],
   "source": []
  }
 ],
 "metadata": {
  "kernelspec": {
   "display_name": "Python 3",
   "language": "python",
   "name": "python3"
  },
  "language_info": {
   "codemirror_mode": {
    "name": "ipython",
    "version": 3
   },
   "file_extension": ".py",
   "mimetype": "text/x-python",
   "name": "python",
   "nbconvert_exporter": "python",
   "pygments_lexer": "ipython3",
   "version": "3.11.9"
  }
 },
 "nbformat": 4,
 "nbformat_minor": 2
}
