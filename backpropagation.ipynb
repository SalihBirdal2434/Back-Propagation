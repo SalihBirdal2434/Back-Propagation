{
 "cells": [
  {
   "cell_type": "code",
   "execution_count": 3,
   "metadata": {},
   "outputs": [
    {
     "name": "stdout",
     "output_type": "stream",
     "text": [
      "dL/dw1 = 2*w5*x1*(b3 + w5*(b1 + w1*x1 + w3*x2) + w6*(b2 + w2*x1 + w4*x2) - yActual)\n",
      "dL/dw2 = 2*w6*x1*(b3 + w5*(b1 + w1*x1 + w3*x2) + w6*(b2 + w2*x1 + w4*x2) - yActual)\n",
      "dL/dw3 = 2*w5*x2*(b3 + w5*(b1 + w1*x1 + w3*x2) + w6*(b2 + w2*x1 + w4*x2) - yActual)\n",
      "dL/dw4 = 2*w6*x2*(b3 + w5*(b1 + w1*x1 + w3*x2) + w6*(b2 + w2*x1 + w4*x2) - yActual)\n",
      "dL/dw5 = (2*b1 + 2*w1*x1 + 2*w3*x2)*(b3 + w5*(b1 + w1*x1 + w3*x2) + w6*(b2 + w2*x1 + w4*x2) - yActual)\n",
      "dL/db1 = 2*w5*(b3 + w5*(b1 + w1*x1 + w3*x2) + w6*(b2 + w2*x1 + w4*x2) - yActual)\n",
      "dL/db2 = 2*w6*(b3 + w5*(b1 + w1*x1 + w3*x2) + w6*(b2 + w2*x1 + w4*x2) - yActual)\n",
      "dL/db3 = 2*b3 + 2*w5*(b1 + w1*x1 + w3*x2) + 2*w6*(b2 + w2*x1 + w4*x2) - 2*yActual\n",
      "\n",
      "--- Numeric Evaluations ---\n",
      "dL/dw1 = 1.00000000000000\n",
      "dL/dw2 = 1.00000000000000\n",
      "dL/dw3 = 0\n",
      "dL/dw4 = 0\n",
      "dL/dw5 = 1.50000000000000\n",
      "dL/dw6 = 0.500000000000000\n",
      "dL/db1 = 1.00000000000000\n",
      "dL/db2 = 1.00000000000000\n",
      "dL/db3 = 1.00000000000000\n"
     ]
    }
   ],
   "source": [
    "import sympy as sp\n",
    "\n",
    "# 1) Sembolik değişkenleri (inputlar, ağırlıklar, biaslar) tanımla\n",
    "x1, x2 = sp.symbols('x1 x2', real=True)\n",
    "w1, w2, w3, w4, w5, w6 = sp.symbols('w1 w2 w3 w4 w5 w6', real=True)\n",
    "b1, b2, b3 = sp.symbols('b1 b2 b3', real=True)\n",
    "yActual = sp.Symbol('yActual', real=True)\n",
    "\n",
    "# 2) İleri hesaplama (Forward)\n",
    "h1 = x1*w1 + x2*w3 + b1\n",
    "h2 = x1*w2 + x2*w4 + b2\n",
    "o1 = h1*w5 + h2*w6 + b3  # a.k.a. yhat\n",
    "\n",
    "# 3) Kayıp fonksiyonu tanımla (MSE tek örnek için -> (o1 - y)^2 )\n",
    "L = (o1 - yActual)**2\n",
    "\n",
    "# 4) Türevler (Backward) - Zincir kuralı otomatik olarak\n",
    "dL_dw1 = sp.diff(L, w1)\n",
    "dL_dw2 = sp.diff(L, w2)\n",
    "dL_dw3 = sp.diff(L, w3)\n",
    "dL_dw4 = sp.diff(L, w4)\n",
    "dL_dw5 = sp.diff(L, w5)\n",
    "dL_dw6 = sp.diff(L, w6)\n",
    "dL_db1 = sp.diff(L, b1)\n",
    "dL_db2 = sp.diff(L, b2)\n",
    "dL_db3 = sp.diff(L, b3)\n",
    "\n",
    "# 5) Şimdi sembolik ifadeleri ekrana basalım\n",
    "print(\"dL/dw1 =\", dL_dw1)\n",
    "print(\"dL/dw2 =\", dL_dw2)\n",
    "print(\"dL/dw3 =\", dL_dw3)\n",
    "print(\"dL/dw4 =\", dL_dw4)\n",
    "print(\"dL/dw5 =\", dL_dw5)\n",
    "print(\"dL/db1 =\", dL_db1)\n",
    "print(\"dL/db2 =\", dL_db2)\n",
    "print(\"dL/db3 =\", dL_db3)\n",
    "\n",
    "# 6) İsterseniz numerik değerler ile değerlendirin (örneğin x1=1, x2=0, vs.)\n",
    "subs_values = {\n",
    "    x1: 1.0,\n",
    "    x2: 0.0,\n",
    "    w1: 1.0,\n",
    "    w2: 0.5,\n",
    "    w3: 1.0,\n",
    "    w4: -0.5,\n",
    "    w5: 1.0,\n",
    "    w6: 1.0,\n",
    "    b1: 0.5,\n",
    "    b2: 0.0,\n",
    "    b3: 0.5,\n",
    "    yActual: 2.0\n",
    "}\n",
    "\n",
    "print(\"\\n--- Numeric Evaluations ---\")\n",
    "print(\"dL/dw1 =\", dL_dw1.subs(subs_values))\n",
    "print(\"dL/dw2 =\", dL_dw2.subs(subs_values))\n",
    "print(\"dL/dw3 =\", dL_dw3.subs(subs_values))\n",
    "print(\"dL/dw4 =\", dL_dw4.subs(subs_values))\n",
    "print(\"dL/dw5 =\", dL_dw5.subs(subs_values))\n",
    "print(\"dL/dw6 =\", dL_dw6.subs(subs_values))\n",
    "print(\"dL/db1 =\", dL_db1.subs(subs_values))\n",
    "print(\"dL/db2 =\", dL_db2.subs(subs_values))\n",
    "print(\"dL/db3 =\", dL_db3.subs(subs_values))\n"
   ]
  },
  {
   "cell_type": "code",
   "execution_count": null,
   "metadata": {},
   "outputs": [],
   "source": []
  }
 ],
 "metadata": {
  "kernelspec": {
   "display_name": "Python 3",
   "language": "python",
   "name": "python3"
  },
  "language_info": {
   "codemirror_mode": {
    "name": "ipython",
    "version": 3
   },
   "file_extension": ".py",
   "mimetype": "text/x-python",
   "name": "python",
   "nbconvert_exporter": "python",
   "pygments_lexer": "ipython3",
   "version": "3.11.9"
  }
 },
 "nbformat": 4,
 "nbformat_minor": 2
}
